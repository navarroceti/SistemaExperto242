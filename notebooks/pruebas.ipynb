{
 "cells": [
  {
   "cell_type": "code",
   "execution_count": 3,
   "metadata": {},
   "outputs": [
    {
     "name": "stdout",
     "output_type": "stream",
     "text": [
      "La secuencia es aceptada por el autómata.\n"
     ]
    }
   ],
   "source": [
    "class Automata:\n",
    "    def __init__(self):\n",
    "        self.transitions = {\n",
    "            'START': {'S': 'COND_1', 'P': 'PROP', 'N': 'NEG'},\n",
    "            'NEG': {'P': 'PROP'},\n",
    "            'PROP': {'O': 'COND_2', 'Y': 'COND_2', 'P': 'PROP', 'EOL': 'END'},\n",
    "            'COND_1': {'N': 'NEG_PA', 'P': 'PROP_A'},\n",
    "            'NEG_PA': {'P': 'PROP_A'},\n",
    "            'PROP_A': {'P': 'PROP_A', 'E': 'COND_2'},\n",
    "            'COND_2': {'N': 'NEG_PB', 'P': 'PROP_B'},\n",
    "            'NEG_PB': {'P': 'PROP_B'},\n",
    "            'PROP_B': {'P': 'PROP_B', 'EOL': 'END'}\n",
    "        }\n",
    "        self.state = 'START'\n",
    "\n",
    "    def transition(self, input_symbol):\n",
    "        if input_symbol in self.transitions[self.state]:\n",
    "            self.state = self.transitions[self.state][input_symbol]\n",
    "        else:\n",
    "            raise ValueError(f\"No transition for symbol {input_symbol} in state {self.state}\")\n",
    "\n",
    "    def is_accepting(self):\n",
    "        return self.state == 'END'\n",
    "\n",
    "# Ejemplo de uso\n",
    "automata = Automata()\n",
    "input_sequence = ['S', 'N', 'P', 'P', 'E', 'P', 'P', 'EOL']\n",
    "\n",
    "try:\n",
    "    for symbol in input_sequence:\n",
    "        automata.transition(symbol)\n",
    "    if automata.is_accepting():\n",
    "        print(\"La secuencia es aceptada por el autómata.\")\n",
    "    else:\n",
    "        print(\"La secuencia no es aceptada por el autómata.\")\n",
    "except ValueError as e:\n",
    "    print(e)"
   ]
  },
  {
   "cell_type": "code",
   "execution_count": null,
   "metadata": {},
   "outputs": [],
   "source": []
  }
 ],
 "metadata": {
  "kernelspec": {
   "display_name": ".venv",
   "language": "python",
   "name": "python3"
  },
  "language_info": {
   "codemirror_mode": {
    "name": "ipython",
    "version": 3
   },
   "file_extension": ".py",
   "mimetype": "text/x-python",
   "name": "python",
   "nbconvert_exporter": "python",
   "pygments_lexer": "ipython3",
   "version": "3.11.8"
  }
 },
 "nbformat": 4,
 "nbformat_minor": 2
}
